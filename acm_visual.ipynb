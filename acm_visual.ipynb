{
 "cells": [
  {
   "cell_type": "code",
   "execution_count": null,
   "metadata": {},
   "outputs": [],
   "source": [
    "import os\n",
    "import numpy as np\n",
    "import matplotlib.pyplot as plt"
   ]
  },
  {
   "cell_type": "code",
   "execution_count": null,
   "metadata": {},
   "outputs": [],
   "source": [
    "LOGS_FOLDER = 'logs'\n",
    "history_file = 'history-gru1-50-g-rawembedding-32-lower-nopunc-nostop-rmsprop-10.txt'"
   ]
  },
  {
   "cell_type": "code",
   "execution_count": null,
   "metadata": {},
   "outputs": [],
   "source": [
    "losses = dict()\n",
    "accuracies = dict()\n",
    "with open(os.path.join(LOGS_FOLDER, history_file), 'r') as fd:\n",
    "    for line in fd:\n",
    "        parts = line.split()\n",
    "        key = parts[0]\n",
    "        values = [float(part) for part in parts[1:]]\n",
    "        if 'loss' in key:\n",
    "            losses[key] = values\n",
    "        else:\n",
    "            accuracies[key] = values\n",
    "data = losses, accuracies\n",
    "[datum.keys() for datum in data]"
   ]
  },
  {
   "cell_type": "code",
   "execution_count": null,
   "metadata": {},
   "outputs": [],
   "source": [
    "def plot(axis, data):\n",
    "    labels = list()\n",
    "    for key in data.keys():\n",
    "        axis.plot(data[key], color='r' if 'val' in key else 'b')\n",
    "        labels.append(key)\n",
    "    axis.legend(labels)\n",
    "\n",
    "\n",
    "figure, axes = plt.subplots(nrows=1, ncols=2)\n",
    "figure.set_figwidth(12)\n",
    "for i, axis in enumerate(axes):\n",
    "    plot(axis, data[i])\n",
    "plt.show()"
   ]
  },
  {
   "cell_type": "code",
   "execution_count": null,
   "metadata": {},
   "outputs": [],
   "source": []
  }
 ],
 "metadata": {
  "kernelspec": {
   "display_name": "Python 3",
   "language": "python",
   "name": "python3"
  },
  "language_info": {
   "codemirror_mode": {
    "name": "ipython",
    "version": 3
   },
   "file_extension": ".py",
   "mimetype": "text/x-python",
   "name": "python",
   "nbconvert_exporter": "python",
   "pygments_lexer": "ipython3",
   "version": "3.6.4"
  }
 },
 "nbformat": 4,
 "nbformat_minor": 2
}
