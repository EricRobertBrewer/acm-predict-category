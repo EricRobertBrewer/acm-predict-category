{
 "cells": [
  {
   "cell_type": "code",
   "execution_count": null,
   "metadata": {
    "collapsed": true
   },
   "outputs": [],
   "source": [
    "import numpy as np\n",
    "import pandas as pd\n",
    "import re\n",
    "import string\n",
    "from sklearn.model_selection import cross_val_score, train_test_split\n",
    "from sklearn.feature_extraction.text import CountVectorizer, TfidfTransformer\n",
    "from sklearn.naive_bayes import MultinomialNB\n",
    "from sklearn.linear_model import LogisticRegression\n",
    "from sklearn.ensemble import RandomForestClassifier\n",
    "from sklearn.svm import LinearSVC\n",
    "import seaborn as sns"
   ]
  },
  {
   "cell_type": "code",
   "execution_count": null,
   "metadata": {
    "collapsed": true
   },
   "outputs": [],
   "source": [
    "DATA_FILE = 'data.csv'\n",
    "COLUMNS = ['class', 'title', 'unused1', 'authors', 'source', 'publisher', 'citations', 'abstract', 'keywords']"
   ]
  },
  {
   "cell_type": "code",
   "execution_count": null,
   "metadata": {
    "collapsed": true
   },
   "outputs": [],
   "source": [
    "train_ratio = 0.8\n",
    "random_seed = None  # 0\n",
    "val_ratio = 0.25"
   ]
  },
  {
   "cell_type": "code",
   "execution_count": null,
   "metadata": {
    "collapsed": true
   },
   "outputs": [],
   "source": [
    "# Read data.\n",
    "data = pd.read_csv(DATA_FILE, dtype='object')\n",
    "data = data[data['abstract'].notnull()]\n",
    "# Extract labels.\n",
    "labels = np.array(data['class'])\n",
    "# Create lines.\n",
    "titles = list(data['title'])\n",
    "abstracts = list(data['abstract'])\n",
    "sentences = [titles[i] + ' ' + abstracts[i] for i in range(len(titles))]\n",
    "lines = np.array(sentences)\n",
    "# Shuffle.\n",
    "# permutation = np.random.permutation(data.shape[0])\n",
    "# labels = labels[permutation]\n",
    "# lines = lines[permutation]\n",
    "# Split data into train and test sets.\n",
    "# train_end = int(train_ratio * len(data))\n",
    "# train_labels, train_lines = labels[:train_end], lines[:train_end]\n",
    "# test_labels, test_lines = labels[train_end:], lines[train_end:]\n",
    "train_lines, test_lines, train_labels, test_labels = train_test_split(lines,\n",
    "                                                                      labels,\n",
    "                                                                      random_state=random_seed,\n",
    "                                                                      train_size=train_ratio)"
   ]
  },
  {
   "cell_type": "code",
   "execution_count": null,
   "metadata": {
    "collapsed": true
   },
   "outputs": [],
   "source": [
    "token_prog = re.compile(f'([{string.punctuation}“”¨«»®´·º½¾¿¡§£₤‘’])')\n",
    "def tokenize(s):\n",
    "    return token_prog.sub(r' \\1 ', s).split()"
   ]
  },
  {
   "cell_type": "code",
   "execution_count": null,
   "metadata": {
    "collapsed": true
   },
   "outputs": [],
   "source": [
    "# tfidf = TfidfVectorizer(sublinear_tf=True,\n",
    "#                         min_df=5,\n",
    "#                         norm='l2',\n",
    "#                         encoding='latin-1',\n",
    "#                         ngram_range=(1, 2),\n",
    "#                         stop_words='english')\n",
    "vec = TfidfVectorizer(ngram_range=(1,2),\n",
    "                      tokenizer=tokenize,\n",
    "                      min_df=2,\n",
    "                      max_df=0.9,\n",
    "                      strip_accents='unicode',\n",
    "                      use_idf=True,\n",
    "                      smooth_idf=True,\n",
    "                      sublinear_tf=True)\n",
    "# trn_term_doc = vec.fit_transform(train[COMMENT])\n",
    "# test_term_doc = vec.transform(test[COMMENT])\n",
    "count_vect = CountVectorizer()\n",
    "X_train_counts = count_vect.fit_transform(X_train)\n",
    "tfidf_transformer = TfidfTransformer()\n",
    "X_train_tfidf = tfidf_transformer.fit_transform(X_train_counts)"
   ]
  },
  {
   "cell_type": "code",
   "execution_count": null,
   "metadata": {
    "collapsed": true
   },
   "outputs": [],
   "source": []
  }
 ],
 "metadata": {
  "kernelspec": {
   "display_name": "Python 3",
   "language": "python",
   "name": "python3"
  },
  "language_info": {
   "codemirror_mode": {
    "name": "ipython",
    "version": 3
   },
   "file_extension": ".py",
   "mimetype": "text/x-python",
   "name": "python",
   "nbconvert_exporter": "python",
   "pygments_lexer": "ipython3",
   "version": "3.6.3"
  }
 },
 "nbformat": 4,
 "nbformat_minor": 2
}
