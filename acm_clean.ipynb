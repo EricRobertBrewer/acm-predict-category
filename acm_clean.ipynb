{
 "cells": [
  {
   "cell_type": "code",
   "execution_count": null,
   "metadata": {},
   "outputs": [],
   "source": [
    "import re\n",
    "import pandas as pd"
   ]
  },
  {
   "cell_type": "code",
   "execution_count": null,
   "metadata": {},
   "outputs": [],
   "source": [
    "NAMES = ['class', 'title', 'u1', 'authors', 'source', 'publisher', 'citations', 'abstract', 'keywords']\n",
    "# DATA = 'acm_result1-6.txt'\n",
    "DATA = 'acm_result1-6_unique.txt'"
   ]
  },
  {
   "cell_type": "code",
   "execution_count": null,
   "metadata": {},
   "outputs": [],
   "source": [
    "# Check for duplicate entries.\n",
    "def get_unique_lines(lines):\n",
    "    _lines = sorted(lines)\n",
    "    unique_lines = list()\n",
    "    duplicate_line_numbers = list()\n",
    "    for i in range(len(_lines) - 1):\n",
    "        line = _lines[i]\n",
    "        line_ = _lines[i + 1]\n",
    "        if line and line not in line_:\n",
    "            unique_lines.append(line)\n",
    "        else:\n",
    "            duplicate_line_numbers.append(i + 1)\n",
    "    if _lines[-1]:\n",
    "        unique_lines.append(_lines[-1])\n",
    "    return unique_lines, duplicate_line_numbers"
   ]
  },
  {
   "cell_type": "code",
   "execution_count": null,
   "metadata": {},
   "outputs": [],
   "source": [
    "def sub_count(s, to_match):\n",
    "    if len(to_match) == 0:\n",
    "        return 0\n",
    "    if len(to_match) > len(s):\n",
    "        return 0\n",
    "    count = 0\n",
    "    for i in range(len(s) - len(to_match) + 1):\n",
    "        if s[i:i + len(to_match)] == to_match:\n",
    "            count += 1\n",
    "    return count\n",
    "\n",
    "\n",
    "# Check for extra bar (|) characters in lines.\n",
    "def get_incorrectly_separated_lines(lines, count, sep=','):\n",
    "#     minus_prog = re.compile(r'^.+?(\\|[^|]*?){0,' + str(count - 1) + r'}$')\n",
    "    minus_lines = list()\n",
    "    # 9 or more bars, with anything in-between\n",
    "#     plus_prog = re.compile(r'^.+?(\\|[^|]*?){' + str(count + 1) + r',}$')\n",
    "    plus_lines = list()\n",
    "    correct_lines = list()\n",
    "    for i, line in enumerate(lines):\n",
    "#         if minus_prog.match(line):\n",
    "        sep_count = sub_count(line, sep)\n",
    "        if sep_count < count:\n",
    "            minus_lines.append(i + 1)\n",
    "#         elif plus_prog.match(line):\n",
    "        elif sep_count > count:\n",
    "            plus_lines.append(i + 1)\n",
    "        else:\n",
    "            correct_lines.append(line)\n",
    "    return minus_lines, plus_lines, correct_lines"
   ]
  },
  {
   "cell_type": "code",
   "execution_count": null,
   "metadata": {},
   "outputs": [],
   "source": [
    "# Count the number of lines with `|Keywords: ` anywhere to see if it can be replaced.\n",
    "def get_matching_line_count(lines, to_match):\n",
    "    # keywords_prog = re.compile(r'^.+(?:\\|.*){7}\\|Keywords: ')\n",
    "    count = 0\n",
    "    for line in lines:\n",
    "    #     if keywords_prog.match(line):\n",
    "        if to_match in line:\n",
    "            count += 1\n",
    "    return count"
   ]
  },
  {
   "cell_type": "code",
   "execution_count": null,
   "metadata": {},
   "outputs": [],
   "source": [
    "keywords_str = r'|Keywords: '\n",
    "with open(DATA, 'r', encoding='utf8') as fd:\n",
    "    lines = fd.readlines()\n",
    "    print('Lines: {}'.format(len(lines)))\n",
    "    unique_lines, duplicate_line_numbers = get_unique_lines(lines)\n",
    "    print('Duplicate lines: {}'.format(len(duplicate_line_numbers)))\n",
    "    minus_lines, plus_lines, correct_lines = get_incorrectly_separated_lines(unique_lines, len(NAMES) - 1, '|')\n",
    "    print('Lines with too few bar (|) characters: {}'.format(len(minus_lines)))\n",
    "    print('Lines with too many bar (|) characters: {}'.format(len(plus_lines)))\n",
    "    keywords_count = get_matching_line_count(correct_lines, keywords_str)\n",
    "    print('Lines with `|Keywords: `: {}'.format(keywords_count))"
   ]
  },
  {
   "cell_type": "code",
   "execution_count": null,
   "metadata": {},
   "outputs": [],
   "source": [
    "print(duplicate_line_numbers)\n",
    "print(minus_lines)\n",
    "print(plus_lines[:min(len(plus_lines), 15)])"
   ]
  },
  {
   "cell_type": "code",
   "execution_count": null,
   "metadata": {},
   "outputs": [],
   "source": [
    "# Replace the duplicated training data with only the unique entries, if necessary.\n",
    "if len(lines) > len(correct_lines):\n",
    "    DATA_UNIQUE = '_unique.'.join(DATA.split('.'))\n",
    "    with open(DATA_UNIQUE, 'w+', encoding='utf8') as fd:\n",
    "        for correct_line in correct_lines:\n",
    "            fd.write(correct_line)\n",
    "    DATA = DATA_UNIQUE"
   ]
  },
  {
   "cell_type": "code",
   "execution_count": null,
   "metadata": {
    "scrolled": false
   },
   "outputs": [],
   "source": [
    "data = pd.read_csv(DATA, sep='|', header=None, names=NAMES)\n",
    "data.head()"
   ]
  },
  {
   "cell_type": "code",
   "execution_count": null,
   "metadata": {},
   "outputs": [],
   "source": [
    "data = data[data.abstract.notnull()]\n",
    "data.shape"
   ]
  },
  {
   "cell_type": "code",
   "execution_count": null,
   "metadata": {},
   "outputs": [],
   "source": [
    "data.to_csv('data.csv', index=False)"
   ]
  },
  {
   "cell_type": "markdown",
   "metadata": {},
   "source": [
    "### TEST"
   ]
  },
  {
   "cell_type": "code",
   "execution_count": null,
   "metadata": {},
   "outputs": [],
   "source": [
    "test = pd.read_csv('test.txt', sep='|', header=None, names=names, encoding='latin1')"
   ]
  },
  {
   "cell_type": "code",
   "execution_count": null,
   "metadata": {},
   "outputs": [],
   "source": []
  }
 ],
 "metadata": {
  "kernelspec": {
   "display_name": "Python 3",
   "language": "python",
   "name": "python3"
  },
  "language_info": {
   "codemirror_mode": {
    "name": "ipython",
    "version": 3
   },
   "file_extension": ".py",
   "mimetype": "text/x-python",
   "name": "python",
   "nbconvert_exporter": "python",
   "pygments_lexer": "ipython3",
   "version": "3.6.4"
  }
 },
 "nbformat": 4,
 "nbformat_minor": 2
}
